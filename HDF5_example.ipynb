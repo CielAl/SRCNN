{
 "cells": [
  {
   "cell_type": "code",
   "execution_count": 1,
   "metadata": {},
   "outputs": [],
   "source": [
    "from database import database\n",
    "from matplotlib import pyplot as plt\n",
    "import sklearn.feature_extraction.image\n",
    "from sklearn.feature_extraction.image import extract_patches"
   ]
  },
  {
   "cell_type": "code",
   "execution_count": 2,
   "metadata": {},
   "outputs": [],
   "source": [
    "args = {}\n",
    "args['filedir'] = 'train_data'\n",
    "args['pattern'] = '*.bmp'\n",
    "args['database_name'] = 'mock'\n",
    "args['export_dir'] = 'export'\n",
    "args['patch_shape'] = (32,32,3)\n",
    "args['stride_size'] = 32\n",
    "data_set = database(**args)"
   ]
  },
  {
   "cell_type": "code",
   "execution_count": 3,
   "metadata": {},
   "outputs": [
    {
     "data": {
      "text/plain": [
       "{'train': array([23, 85, 69, 47, 82, 53, 79, 90,  2, 50, 52, 58, 19, 22, 71, 28, 86,\n",
       "        87, 41, 27, 29, 55, 11, 18, 80, 59, 20, 73, 84, 13, 34, 15, 46,  3,\n",
       "        43, 14, 45, 78, 72, 88, 65, 61, 54, 66, 83, 21,  6,  0, 56, 38, 89,\n",
       "         1, 32, 70, 10, 48, 67, 26, 75, 63, 37, 25, 60,  9, 33, 24, 12, 64,\n",
       "        76, 49,  7,  5, 51,  8, 30, 74, 44,  4, 68, 57, 62]),\n",
       " 'val': array([31, 17, 16, 77, 40, 36, 39, 35, 81, 42])}"
      ]
     },
     "execution_count": 3,
     "metadata": {},
     "output_type": "execute_result"
    }
   ],
   "source": [
    "data_set.init_split()"
   ]
  },
  {
   "cell_type": "code",
   "execution_count": 4,
   "metadata": {},
   "outputs": [
    {
     "name": "stderr",
     "output_type": "stream",
     "text": [
      "100%|█████████████████████████████████████████████████████████████████████████████████| 81/81 [00:00<00:00, 137.18it/s]\n",
      "100%|████████████████████████████████████████████████████████████████████████████████| 10/10 [00:00<00:00, 1436.01it/s]\n"
     ]
    }
   ],
   "source": [
    "data_set.execute()"
   ]
  },
  {
   "cell_type": "code",
   "execution_count": null,
   "metadata": {},
   "outputs": [],
   "source": []
  },
  {
   "cell_type": "code",
   "execution_count": null,
   "metadata": {},
   "outputs": [],
   "source": []
  }
 ],
 "metadata": {
  "kernelspec": {
   "display_name": "Python 3",
   "language": "python",
   "name": "python3"
  },
  "language_info": {
   "codemirror_mode": {
    "name": "ipython",
    "version": 3
   },
   "file_extension": ".py",
   "mimetype": "text/x-python",
   "name": "python",
   "nbconvert_exporter": "python",
   "pygments_lexer": "ipython3",
   "version": "3.6.7"
  }
 },
 "nbformat": 4,
 "nbformat_minor": 2
}
