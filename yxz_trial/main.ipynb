{
 "cells": [
  {
   "cell_type": "code",
   "execution_count": 1,
   "metadata": {},
   "outputs": [],
   "source": [
    "from database import database\n",
    "from matplotlib import pyplot as plt\n",
    "import sklearn.feature_extraction.image\n",
    "from sklearn.feature_extraction.image import extract_patches\n",
    "import tables\n",
    "import random\n",
    "from SRCNN import run\n",
    "from build_model import build_model\n",
    "import tensorflow as tf"
   ]
  },
  {
   "cell_type": "code",
   "execution_count": 4,
   "metadata": {},
   "outputs": [
    {
     "name": "stderr",
     "output_type": "stream",
     "text": [
      "100%|██████████| 81/81 [00:00<00:00, 87.86it/s] \n",
      "100%|██████████| 10/10 [00:00<00:00, 130.40it/s]\n"
     ]
    },
    {
     "data": {
      "text/plain": [
       "{'img': 4525, 'label': 4525}"
      ]
     },
     "execution_count": 4,
     "metadata": {},
     "output_type": "execute_result"
    }
   ],
   "source": [
    "random.seed(31415926)\n",
    "args = {}\n",
    "args['filedir'] = './train_data'\n",
    "args['pattern'] = '*.bmp'\n",
    "args['database_name'] = 'mock'\n",
    "args['export_dir'] = './export'\n",
    "args['patch_shape'] = (32,32,3)\n",
    "args['stride_size'] = 32\n",
    "\n",
    "\n",
    "\n",
    "data_set = database(**args)\n",
    "data_set.write_data()"
   ]
  },
  {
   "cell_type": "code",
   "execution_count": 6,
   "metadata": {},
   "outputs": [
    {
     "name": "stdout",
     "output_type": "stream",
     "text": [
      "Preparing data...\n"
     ]
    },
    {
     "name": "stderr",
     "output_type": "stream",
     "text": [
      "100%|██████████| 118/118 [00:01<00:00, 82.58it/s]\n",
      "  8%|▊         | 10/118 [00:00<00:01, 95.17it/s]"
     ]
    },
    {
     "name": "stdout",
     "output_type": "stream",
     "text": [
      "EPOCH: 0 Avg Loss: 0.07274590333197582\n"
     ]
    },
    {
     "name": "stderr",
     "output_type": "stream",
     "text": [
      "100%|██████████| 118/118 [00:01<00:00, 86.94it/s]\n",
      "  8%|▊         | 9/118 [00:00<00:01, 85.16it/s]"
     ]
    },
    {
     "name": "stdout",
     "output_type": "stream",
     "text": [
      "EPOCH: 1 Avg Loss: 0.04930761374406895\n"
     ]
    },
    {
     "name": "stderr",
     "output_type": "stream",
     "text": [
      "100%|██████████| 118/118 [00:01<00:00, 103.09it/s]\n",
      " 10%|█         | 12/118 [00:00<00:00, 116.95it/s]"
     ]
    },
    {
     "name": "stdout",
     "output_type": "stream",
     "text": [
      "EPOCH: 2 Avg Loss: 0.03169988334115784\n"
     ]
    },
    {
     "name": "stderr",
     "output_type": "stream",
     "text": [
      "100%|██████████| 118/118 [00:01<00:00, 101.02it/s]\n",
      "  8%|▊         | 9/118 [00:00<00:01, 86.34it/s]"
     ]
    },
    {
     "name": "stdout",
     "output_type": "stream",
     "text": [
      "EPOCH: 3 Avg Loss: 0.019606085793091522\n"
     ]
    },
    {
     "name": "stderr",
     "output_type": "stream",
     "text": [
      "100%|██████████| 118/118 [00:01<00:00, 98.70it/s] \n",
      "  8%|▊         | 10/118 [00:00<00:01, 71.53it/s]"
     ]
    },
    {
     "name": "stdout",
     "output_type": "stream",
     "text": [
      "EPOCH: 4 Avg Loss: 0.019324047210768372\n"
     ]
    },
    {
     "name": "stderr",
     "output_type": "stream",
     "text": [
      "100%|██████████| 118/118 [00:01<00:00, 82.00it/s]\n",
      "  8%|▊         | 10/118 [00:00<00:01, 91.46it/s]"
     ]
    },
    {
     "name": "stdout",
     "output_type": "stream",
     "text": [
      "EPOCH: 5 Avg Loss: 0.012580594113017669\n"
     ]
    },
    {
     "name": "stderr",
     "output_type": "stream",
     "text": [
      "100%|██████████| 118/118 [00:01<00:00, 92.12it/s]\n",
      "  8%|▊         | 9/118 [00:00<00:01, 88.24it/s]"
     ]
    },
    {
     "name": "stdout",
     "output_type": "stream",
     "text": [
      "EPOCH: 6 Avg Loss: 0.008426388779899768\n"
     ]
    },
    {
     "name": "stderr",
     "output_type": "stream",
     "text": [
      "100%|██████████| 118/118 [00:01<00:00, 93.70it/s]\n",
      "  8%|▊         | 9/118 [00:00<00:01, 83.87it/s]"
     ]
    },
    {
     "name": "stdout",
     "output_type": "stream",
     "text": [
      "EPOCH: 7 Avg Loss: 0.00797482542358181\n"
     ]
    },
    {
     "name": "stderr",
     "output_type": "stream",
     "text": [
      "100%|██████████| 118/118 [00:01<00:00, 94.73it/s]\n",
      "  9%|▉         | 11/118 [00:00<00:00, 109.48it/s]"
     ]
    },
    {
     "name": "stdout",
     "output_type": "stream",
     "text": [
      "EPOCH: 8 Avg Loss: 0.006750142025185149\n"
     ]
    },
    {
     "name": "stderr",
     "output_type": "stream",
     "text": [
      "100%|██████████| 118/118 [00:01<00:00, 93.91it/s]\n",
      "  9%|▉         | 11/118 [00:00<00:01, 105.22it/s]"
     ]
    },
    {
     "name": "stdout",
     "output_type": "stream",
     "text": [
      "EPOCH: 9 Avg Loss: 0.006515408712202462\n"
     ]
    },
    {
     "name": "stderr",
     "output_type": "stream",
     "text": [
      "100%|██████████| 118/118 [00:01<00:00, 87.60it/s]\n",
      "  4%|▍         | 5/118 [00:00<00:02, 46.06it/s]"
     ]
    },
    {
     "name": "stdout",
     "output_type": "stream",
     "text": [
      "EPOCH: 10 Avg Loss: 0.005721115981232596\n"
     ]
    },
    {
     "name": "stderr",
     "output_type": "stream",
     "text": [
      "100%|██████████| 118/118 [00:01<00:00, 92.56it/s]\n",
      " 10%|█         | 12/118 [00:00<00:00, 111.11it/s]"
     ]
    },
    {
     "name": "stdout",
     "output_type": "stream",
     "text": [
      "EPOCH: 11 Avg Loss: 0.006517524795480452\n"
     ]
    },
    {
     "name": "stderr",
     "output_type": "stream",
     "text": [
      "100%|██████████| 118/118 [00:01<00:00, 90.74it/s]\n",
      "  7%|▋         | 8/118 [00:00<00:01, 77.88it/s]"
     ]
    },
    {
     "name": "stdout",
     "output_type": "stream",
     "text": [
      "EPOCH: 12 Avg Loss: 0.009862980760941756\n"
     ]
    },
    {
     "name": "stderr",
     "output_type": "stream",
     "text": [
      "100%|██████████| 118/118 [00:01<00:00, 87.49it/s]\n",
      "  9%|▉         | 11/118 [00:00<00:00, 109.24it/s]"
     ]
    },
    {
     "name": "stdout",
     "output_type": "stream",
     "text": [
      "EPOCH: 13 Avg Loss: 0.00817462902366168\n"
     ]
    },
    {
     "name": "stderr",
     "output_type": "stream",
     "text": [
      "100%|██████████| 118/118 [00:01<00:00, 98.33it/s]\n",
      "  8%|▊         | 9/118 [00:00<00:01, 83.99it/s]"
     ]
    },
    {
     "name": "stdout",
     "output_type": "stream",
     "text": [
      "EPOCH: 14 Avg Loss: 0.00719202556489509\n"
     ]
    },
    {
     "name": "stderr",
     "output_type": "stream",
     "text": [
      "100%|██████████| 118/118 [00:01<00:00, 96.67it/s] \n",
      "  9%|▉         | 11/118 [00:00<00:00, 108.40it/s]"
     ]
    },
    {
     "name": "stdout",
     "output_type": "stream",
     "text": [
      "EPOCH: 15 Avg Loss: 0.007968368894673125\n"
     ]
    },
    {
     "name": "stderr",
     "output_type": "stream",
     "text": [
      "100%|██████████| 118/118 [00:01<00:00, 88.31it/s]\n",
      "  8%|▊         | 10/118 [00:00<00:01, 91.67it/s]"
     ]
    },
    {
     "name": "stdout",
     "output_type": "stream",
     "text": [
      "EPOCH: 16 Avg Loss: 0.006736664212963907\n"
     ]
    },
    {
     "name": "stderr",
     "output_type": "stream",
     "text": [
      "100%|██████████| 118/118 [00:01<00:00, 91.62it/s]\n",
      "  8%|▊         | 9/118 [00:00<00:01, 88.82it/s]"
     ]
    },
    {
     "name": "stdout",
     "output_type": "stream",
     "text": [
      "EPOCH: 17 Avg Loss: 0.005676186482729864\n"
     ]
    },
    {
     "name": "stderr",
     "output_type": "stream",
     "text": [
      "100%|██████████| 118/118 [00:01<00:00, 95.67it/s]\n",
      "  7%|▋         | 8/118 [00:00<00:01, 76.82it/s]"
     ]
    },
    {
     "name": "stdout",
     "output_type": "stream",
     "text": [
      "EPOCH: 18 Avg Loss: 0.005102924334666676\n"
     ]
    },
    {
     "name": "stderr",
     "output_type": "stream",
     "text": [
      "100%|██████████| 118/118 [00:01<00:00, 96.89it/s]\n",
      "  8%|▊         | 9/118 [00:00<00:01, 85.37it/s]"
     ]
    },
    {
     "name": "stdout",
     "output_type": "stream",
     "text": [
      "EPOCH: 19 Avg Loss: 0.0047341270966186995\n"
     ]
    },
    {
     "name": "stderr",
     "output_type": "stream",
     "text": [
      "100%|██████████| 118/118 [00:01<00:00, 85.19it/s]\n",
      "  7%|▋         | 8/118 [00:00<00:01, 79.23it/s]"
     ]
    },
    {
     "name": "stdout",
     "output_type": "stream",
     "text": [
      "EPOCH: 20 Avg Loss: 0.007271019655074608\n"
     ]
    },
    {
     "name": "stderr",
     "output_type": "stream",
     "text": [
      "100%|██████████| 118/118 [00:01<00:00, 91.02it/s]\n",
      "  5%|▌         | 6/118 [00:00<00:02, 55.73it/s]"
     ]
    },
    {
     "name": "stdout",
     "output_type": "stream",
     "text": [
      "EPOCH: 21 Avg Loss: 0.005420240718610901\n"
     ]
    },
    {
     "name": "stderr",
     "output_type": "stream",
     "text": [
      "100%|██████████| 118/118 [00:01<00:00, 80.51it/s]\n",
      "  9%|▉         | 11/118 [00:00<00:01, 99.91it/s]"
     ]
    },
    {
     "name": "stdout",
     "output_type": "stream",
     "text": [
      "EPOCH: 22 Avg Loss: 0.0046679325953275915\n"
     ]
    },
    {
     "name": "stderr",
     "output_type": "stream",
     "text": [
      "100%|██████████| 118/118 [00:01<00:00, 94.94it/s]\n",
      "  8%|▊         | 9/118 [00:00<00:01, 88.27it/s]"
     ]
    },
    {
     "name": "stdout",
     "output_type": "stream",
     "text": [
      "EPOCH: 23 Avg Loss: 0.005105331964826338\n"
     ]
    },
    {
     "name": "stderr",
     "output_type": "stream",
     "text": [
      "100%|██████████| 118/118 [00:01<00:00, 96.18it/s]\n",
      "  8%|▊         | 9/118 [00:00<00:01, 89.69it/s]"
     ]
    },
    {
     "name": "stdout",
     "output_type": "stream",
     "text": [
      "EPOCH: 24 Avg Loss: 0.005390814603187965\n"
     ]
    },
    {
     "name": "stderr",
     "output_type": "stream",
     "text": [
      "100%|██████████| 118/118 [00:01<00:00, 100.06it/s]\n",
      "  9%|▉         | 11/118 [00:00<00:00, 109.13it/s]"
     ]
    },
    {
     "name": "stdout",
     "output_type": "stream",
     "text": [
      "EPOCH: 25 Avg Loss: 0.004308564357076756\n"
     ]
    },
    {
     "name": "stderr",
     "output_type": "stream",
     "text": [
      "100%|██████████| 118/118 [00:01<00:00, 95.25it/s]\n",
      "  9%|▉         | 11/118 [00:00<00:00, 107.63it/s]"
     ]
    },
    {
     "name": "stdout",
     "output_type": "stream",
     "text": [
      "EPOCH: 26 Avg Loss: 0.006335534921934102\n"
     ]
    },
    {
     "name": "stderr",
     "output_type": "stream",
     "text": [
      "100%|██████████| 118/118 [00:01<00:00, 95.01it/s] \n",
      "  7%|▋         | 8/118 [00:00<00:01, 73.23it/s]"
     ]
    },
    {
     "name": "stdout",
     "output_type": "stream",
     "text": [
      "EPOCH: 27 Avg Loss: 0.005322189937479857\n"
     ]
    },
    {
     "name": "stderr",
     "output_type": "stream",
     "text": [
      "100%|██████████| 118/118 [00:01<00:00, 87.12it/s]\n",
      "  9%|▉         | 11/118 [00:00<00:01, 106.19it/s]"
     ]
    },
    {
     "name": "stdout",
     "output_type": "stream",
     "text": [
      "EPOCH: 28 Avg Loss: 0.0047047768825057385\n"
     ]
    },
    {
     "name": "stderr",
     "output_type": "stream",
     "text": [
      "100%|██████████| 118/118 [00:01<00:00, 95.02it/s]\n",
      " 10%|█         | 12/118 [00:00<00:00, 113.60it/s]"
     ]
    },
    {
     "name": "stdout",
     "output_type": "stream",
     "text": [
      "EPOCH: 29 Avg Loss: 0.005409457019364493\n"
     ]
    },
    {
     "name": "stderr",
     "output_type": "stream",
     "text": [
      "100%|██████████| 118/118 [00:01<00:00, 86.21it/s]\n",
      "  9%|▉         | 11/118 [00:00<00:00, 107.57it/s]"
     ]
    },
    {
     "name": "stdout",
     "output_type": "stream",
     "text": [
      "EPOCH: 30 Avg Loss: 0.004749657634558882\n"
     ]
    },
    {
     "name": "stderr",
     "output_type": "stream",
     "text": [
      "100%|██████████| 118/118 [00:01<00:00, 101.55it/s]\n",
      "  7%|▋         | 8/118 [00:00<00:01, 78.81it/s]"
     ]
    },
    {
     "name": "stdout",
     "output_type": "stream",
     "text": [
      "EPOCH: 31 Avg Loss: 0.005289948684502772\n"
     ]
    },
    {
     "name": "stderr",
     "output_type": "stream",
     "text": [
      "100%|██████████| 118/118 [00:01<00:00, 94.79it/s] \n",
      "  6%|▌         | 7/118 [00:00<00:01, 63.84it/s]"
     ]
    },
    {
     "name": "stdout",
     "output_type": "stream",
     "text": [
      "EPOCH: 32 Avg Loss: 0.004223329921241186\n"
     ]
    },
    {
     "name": "stderr",
     "output_type": "stream",
     "text": [
      "100%|██████████| 118/118 [00:01<00:00, 93.28it/s] \n",
      "  7%|▋         | 8/118 [00:00<00:01, 77.14it/s]"
     ]
    },
    {
     "name": "stdout",
     "output_type": "stream",
     "text": [
      "EPOCH: 33 Avg Loss: 0.004744844350340318\n"
     ]
    },
    {
     "name": "stderr",
     "output_type": "stream",
     "text": [
      "100%|██████████| 118/118 [00:01<00:00, 93.34it/s]\n",
      "  8%|▊         | 9/118 [00:00<00:01, 81.48it/s]"
     ]
    },
    {
     "name": "stdout",
     "output_type": "stream",
     "text": [
      "EPOCH: 34 Avg Loss: 0.003964036159509383\n"
     ]
    },
    {
     "name": "stderr",
     "output_type": "stream",
     "text": [
      "100%|██████████| 118/118 [00:01<00:00, 96.23it/s]\n",
      " 10%|█         | 12/118 [00:00<00:00, 111.82it/s]"
     ]
    },
    {
     "name": "stdout",
     "output_type": "stream",
     "text": [
      "EPOCH: 35 Avg Loss: 0.0044170140418997505\n"
     ]
    },
    {
     "name": "stderr",
     "output_type": "stream",
     "text": [
      "100%|██████████| 118/118 [00:01<00:00, 97.31it/s]\n",
      "  8%|▊         | 10/118 [00:00<00:01, 96.02it/s]"
     ]
    },
    {
     "name": "stdout",
     "output_type": "stream",
     "text": [
      "EPOCH: 36 Avg Loss: 0.0048965978657163805\n"
     ]
    },
    {
     "name": "stderr",
     "output_type": "stream",
     "text": [
      "100%|██████████| 118/118 [00:01<00:00, 87.75it/s]\n",
      "  8%|▊         | 9/118 [00:00<00:01, 89.90it/s]"
     ]
    },
    {
     "name": "stdout",
     "output_type": "stream",
     "text": [
      "EPOCH: 37 Avg Loss: 0.0038092577187699597\n"
     ]
    },
    {
     "name": "stderr",
     "output_type": "stream",
     "text": [
      "100%|██████████| 118/118 [00:01<00:00, 87.50it/s]\n",
      "  8%|▊         | 9/118 [00:00<00:01, 81.92it/s]"
     ]
    },
    {
     "name": "stdout",
     "output_type": "stream",
     "text": [
      "EPOCH: 38 Avg Loss: 0.005521191582498062\n"
     ]
    },
    {
     "name": "stderr",
     "output_type": "stream",
     "text": [
      "100%|██████████| 118/118 [00:01<00:00, 89.29it/s]\n",
      "  9%|▉         | 11/118 [00:00<00:01, 102.81it/s]"
     ]
    },
    {
     "name": "stdout",
     "output_type": "stream",
     "text": [
      "EPOCH: 39 Avg Loss: 0.004510712665328124\n"
     ]
    },
    {
     "name": "stderr",
     "output_type": "stream",
     "text": [
      "100%|██████████| 118/118 [00:01<00:00, 99.96it/s]\n",
      "  8%|▊         | 10/118 [00:00<00:01, 97.94it/s]"
     ]
    },
    {
     "name": "stdout",
     "output_type": "stream",
     "text": [
      "EPOCH: 40 Avg Loss: 0.0038618803195955265\n"
     ]
    },
    {
     "name": "stderr",
     "output_type": "stream",
     "text": [
      "100%|██████████| 118/118 [00:01<00:00, 103.36it/s]\n",
      "  9%|▉         | 11/118 [00:00<00:01, 104.85it/s]"
     ]
    },
    {
     "name": "stdout",
     "output_type": "stream",
     "text": [
      "EPOCH: 41 Avg Loss: 0.0040959246201101316\n"
     ]
    },
    {
     "name": "stderr",
     "output_type": "stream",
     "text": [
      "100%|██████████| 118/118 [00:01<00:00, 90.38it/s]\n",
      "  8%|▊         | 9/118 [00:00<00:01, 87.44it/s]"
     ]
    },
    {
     "name": "stdout",
     "output_type": "stream",
     "text": [
      "EPOCH: 42 Avg Loss: 0.006349332441706053\n"
     ]
    },
    {
     "name": "stderr",
     "output_type": "stream",
     "text": [
      "100%|██████████| 118/118 [00:01<00:00, 97.09it/s] \n",
      "  7%|▋         | 8/118 [00:00<00:01, 69.62it/s]"
     ]
    },
    {
     "name": "stdout",
     "output_type": "stream",
     "text": [
      "EPOCH: 43 Avg Loss: 0.004297079086319496\n"
     ]
    },
    {
     "name": "stderr",
     "output_type": "stream",
     "text": [
      "100%|██████████| 118/118 [00:01<00:00, 98.50it/s] \n",
      "  7%|▋         | 8/118 [00:00<00:01, 76.51it/s]"
     ]
    },
    {
     "name": "stdout",
     "output_type": "stream",
     "text": [
      "EPOCH: 44 Avg Loss: 0.003715495053595879\n"
     ]
    },
    {
     "name": "stderr",
     "output_type": "stream",
     "text": [
      "100%|██████████| 118/118 [00:01<00:00, 96.81it/s]\n",
      "  8%|▊         | 9/118 [00:00<00:01, 84.17it/s]"
     ]
    },
    {
     "name": "stdout",
     "output_type": "stream",
     "text": [
      "EPOCH: 45 Avg Loss: 0.004452397497824661\n"
     ]
    },
    {
     "name": "stderr",
     "output_type": "stream",
     "text": [
      "100%|██████████| 118/118 [00:01<00:00, 93.69it/s]\n",
      " 10%|█         | 12/118 [00:00<00:00, 114.04it/s]"
     ]
    },
    {
     "name": "stdout",
     "output_type": "stream",
     "text": [
      "EPOCH: 46 Avg Loss: 0.0036661441879883663\n"
     ]
    },
    {
     "name": "stderr",
     "output_type": "stream",
     "text": [
      "100%|██████████| 118/118 [00:01<00:00, 91.06it/s]\n",
      "  8%|▊         | 9/118 [00:00<00:01, 83.97it/s]"
     ]
    },
    {
     "name": "stdout",
     "output_type": "stream",
     "text": [
      "EPOCH: 47 Avg Loss: 0.003447472135599513\n"
     ]
    },
    {
     "name": "stderr",
     "output_type": "stream",
     "text": [
      "100%|██████████| 118/118 [00:01<00:00, 81.72it/s]\n",
      " 10%|█         | 12/118 [00:00<00:00, 110.95it/s]"
     ]
    },
    {
     "name": "stdout",
     "output_type": "stream",
     "text": [
      "EPOCH: 48 Avg Loss: 0.003769842883122106\n"
     ]
    },
    {
     "name": "stderr",
     "output_type": "stream",
     "text": [
      "100%|██████████| 118/118 [00:01<00:00, 89.10it/s] \n",
      "  7%|▋         | 8/118 [00:00<00:01, 72.23it/s]"
     ]
    },
    {
     "name": "stdout",
     "output_type": "stream",
     "text": [
      "EPOCH: 49 Avg Loss: 0.003882932201446176\n"
     ]
    },
    {
     "name": "stderr",
     "output_type": "stream",
     "text": [
      "100%|██████████| 118/118 [00:01<00:00, 94.00it/s]\n",
      " 10%|█         | 12/118 [00:00<00:00, 112.20it/s]"
     ]
    },
    {
     "name": "stdout",
     "output_type": "stream",
     "text": [
      "EPOCH: 50 Avg Loss: 0.0034506152856550415\n"
     ]
    },
    {
     "name": "stderr",
     "output_type": "stream",
     "text": [
      "100%|██████████| 118/118 [00:01<00:00, 98.24it/s]\n",
      "  8%|▊         | 10/118 [00:00<00:01, 93.57it/s]"
     ]
    },
    {
     "name": "stdout",
     "output_type": "stream",
     "text": [
      "EPOCH: 51 Avg Loss: 0.003333383645286184\n"
     ]
    },
    {
     "name": "stderr",
     "output_type": "stream",
     "text": [
      "100%|██████████| 118/118 [00:01<00:00, 91.12it/s]\n",
      "  8%|▊         | 9/118 [00:00<00:01, 81.33it/s]"
     ]
    },
    {
     "name": "stdout",
     "output_type": "stream",
     "text": [
      "EPOCH: 52 Avg Loss: 0.0036487278525551814\n"
     ]
    },
    {
     "name": "stderr",
     "output_type": "stream",
     "text": [
      "100%|██████████| 118/118 [00:01<00:00, 95.91it/s] \n",
      "  7%|▋         | 8/118 [00:00<00:01, 78.80it/s]"
     ]
    },
    {
     "name": "stdout",
     "output_type": "stream",
     "text": [
      "EPOCH: 53 Avg Loss: 0.0035164588312539507\n"
     ]
    },
    {
     "name": "stderr",
     "output_type": "stream",
     "text": [
      "100%|██████████| 118/118 [00:01<00:00, 91.83it/s]\n",
      "  8%|▊         | 10/118 [00:00<00:01, 66.86it/s]"
     ]
    },
    {
     "name": "stdout",
     "output_type": "stream",
     "text": [
      "EPOCH: 54 Avg Loss: 0.003852705120491811\n"
     ]
    },
    {
     "name": "stderr",
     "output_type": "stream",
     "text": [
      "100%|██████████| 118/118 [00:01<00:00, 90.72it/s] \n",
      " 10%|█         | 12/118 [00:00<00:00, 112.16it/s]"
     ]
    },
    {
     "name": "stdout",
     "output_type": "stream",
     "text": [
      "EPOCH: 55 Avg Loss: 0.0035103844136879702\n"
     ]
    },
    {
     "name": "stderr",
     "output_type": "stream",
     "text": [
      "100%|██████████| 118/118 [00:01<00:00, 96.91it/s]\n",
      "  9%|▉         | 11/118 [00:00<00:00, 108.25it/s]"
     ]
    },
    {
     "name": "stdout",
     "output_type": "stream",
     "text": [
      "EPOCH: 56 Avg Loss: 0.0033994427802222704\n"
     ]
    },
    {
     "name": "stderr",
     "output_type": "stream",
     "text": [
      "100%|██████████| 118/118 [00:01<00:00, 100.02it/s]\n",
      "  7%|▋         | 8/118 [00:00<00:01, 73.05it/s]"
     ]
    },
    {
     "name": "stdout",
     "output_type": "stream",
     "text": [
      "EPOCH: 57 Avg Loss: 0.003313793323764388\n"
     ]
    },
    {
     "name": "stderr",
     "output_type": "stream",
     "text": [
      "100%|██████████| 118/118 [00:01<00:00, 90.54it/s]\n",
      "  9%|▉         | 11/118 [00:00<00:00, 108.39it/s]"
     ]
    },
    {
     "name": "stdout",
     "output_type": "stream",
     "text": [
      "EPOCH: 58 Avg Loss: 0.003673000800348345\n"
     ]
    },
    {
     "name": "stderr",
     "output_type": "stream",
     "text": [
      "100%|██████████| 118/118 [00:01<00:00, 88.52it/s]\n",
      "  9%|▉         | 11/118 [00:00<00:00, 108.16it/s]"
     ]
    },
    {
     "name": "stdout",
     "output_type": "stream",
     "text": [
      "EPOCH: 59 Avg Loss: 0.0033644287559890457\n"
     ]
    },
    {
     "name": "stderr",
     "output_type": "stream",
     "text": [
      "100%|██████████| 118/118 [00:01<00:00, 93.43it/s]\n",
      "  5%|▌         | 6/118 [00:00<00:02, 55.06it/s]"
     ]
    },
    {
     "name": "stdout",
     "output_type": "stream",
     "text": [
      "EPOCH: 60 Avg Loss: 0.003603321703602718\n"
     ]
    },
    {
     "name": "stderr",
     "output_type": "stream",
     "text": [
      "100%|██████████| 118/118 [00:01<00:00, 90.48it/s]\n",
      "  9%|▉         | 11/118 [00:00<00:00, 108.49it/s]"
     ]
    },
    {
     "name": "stdout",
     "output_type": "stream",
     "text": [
      "EPOCH: 61 Avg Loss: 0.0034151754213272104\n"
     ]
    },
    {
     "name": "stderr",
     "output_type": "stream",
     "text": [
      "100%|██████████| 118/118 [00:01<00:00, 91.10it/s]\n",
      "  9%|▉         | 11/118 [00:00<00:01, 103.70it/s]"
     ]
    },
    {
     "name": "stdout",
     "output_type": "stream",
     "text": [
      "EPOCH: 62 Avg Loss: 0.0033956715105578966\n"
     ]
    },
    {
     "name": "stderr",
     "output_type": "stream",
     "text": [
      "100%|██████████| 118/118 [00:01<00:00, 90.35it/s]\n",
      "  9%|▉         | 11/118 [00:00<00:01, 106.02it/s]"
     ]
    },
    {
     "name": "stdout",
     "output_type": "stream",
     "text": [
      "EPOCH: 63 Avg Loss: 0.0033152494002409846\n"
     ]
    },
    {
     "name": "stderr",
     "output_type": "stream",
     "text": [
      "100%|██████████| 118/118 [00:01<00:00, 91.88it/s]\n",
      "  8%|▊         | 9/118 [00:00<00:01, 81.53it/s]"
     ]
    },
    {
     "name": "stdout",
     "output_type": "stream",
     "text": [
      "EPOCH: 64 Avg Loss: 0.0031406639582355175\n"
     ]
    },
    {
     "name": "stderr",
     "output_type": "stream",
     "text": [
      "100%|██████████| 118/118 [00:01<00:00, 96.33it/s]\n",
      "  7%|▋         | 8/118 [00:00<00:01, 78.50it/s]"
     ]
    },
    {
     "name": "stdout",
     "output_type": "stream",
     "text": [
      "EPOCH: 65 Avg Loss: 0.0030399062216944868\n"
     ]
    },
    {
     "name": "stderr",
     "output_type": "stream",
     "text": [
      "100%|██████████| 118/118 [00:01<00:00, 82.93it/s]\n",
      " 10%|█         | 12/118 [00:00<00:00, 114.67it/s]"
     ]
    },
    {
     "name": "stdout",
     "output_type": "stream",
     "text": [
      "EPOCH: 66 Avg Loss: 0.0035044112621601354\n"
     ]
    },
    {
     "name": "stderr",
     "output_type": "stream",
     "text": [
      "100%|██████████| 118/118 [00:01<00:00, 94.76it/s]\n",
      "  9%|▉         | 11/118 [00:00<00:01, 101.48it/s]"
     ]
    },
    {
     "name": "stdout",
     "output_type": "stream",
     "text": [
      "EPOCH: 67 Avg Loss: 0.0033024262924978543\n"
     ]
    },
    {
     "name": "stderr",
     "output_type": "stream",
     "text": [
      "100%|██████████| 118/118 [00:01<00:00, 93.27it/s]\n",
      "  8%|▊         | 9/118 [00:00<00:01, 89.98it/s]"
     ]
    },
    {
     "name": "stdout",
     "output_type": "stream",
     "text": [
      "EPOCH: 68 Avg Loss: 0.0029876125600066636\n"
     ]
    },
    {
     "name": "stderr",
     "output_type": "stream",
     "text": [
      "100%|██████████| 118/118 [00:01<00:00, 97.03it/s] \n",
      "  7%|▋         | 8/118 [00:00<00:01, 79.11it/s]"
     ]
    },
    {
     "name": "stdout",
     "output_type": "stream",
     "text": [
      "EPOCH: 69 Avg Loss: 0.003517417515128835\n"
     ]
    },
    {
     "name": "stderr",
     "output_type": "stream",
     "text": [
      "100%|██████████| 118/118 [00:01<00:00, 90.16it/s]\n",
      " 10%|█         | 12/118 [00:00<00:00, 111.62it/s]"
     ]
    },
    {
     "name": "stdout",
     "output_type": "stream",
     "text": [
      "EPOCH: 70 Avg Loss: 0.0031568680293522617\n"
     ]
    },
    {
     "name": "stderr",
     "output_type": "stream",
     "text": [
      "100%|██████████| 118/118 [00:01<00:00, 98.25it/s] \n",
      "  4%|▍         | 5/118 [00:00<00:02, 48.61it/s]"
     ]
    },
    {
     "name": "stdout",
     "output_type": "stream",
     "text": [
      "EPOCH: 71 Avg Loss: 0.002995567044570758\n"
     ]
    },
    {
     "name": "stderr",
     "output_type": "stream",
     "text": [
      "100%|██████████| 118/118 [00:01<00:00, 92.01it/s]\n",
      " 10%|█         | 12/118 [00:00<00:00, 112.14it/s]"
     ]
    },
    {
     "name": "stdout",
     "output_type": "stream",
     "text": [
      "EPOCH: 72 Avg Loss: 0.0029558996880580907\n"
     ]
    },
    {
     "name": "stderr",
     "output_type": "stream",
     "text": [
      "100%|██████████| 118/118 [00:01<00:00, 103.45it/s]\n",
      "  7%|▋         | 8/118 [00:00<00:01, 73.40it/s]"
     ]
    },
    {
     "name": "stdout",
     "output_type": "stream",
     "text": [
      "EPOCH: 73 Avg Loss: 0.0028835404094533553\n"
     ]
    },
    {
     "name": "stderr",
     "output_type": "stream",
     "text": [
      "100%|██████████| 118/118 [00:01<00:00, 93.17it/s]\n",
      " 10%|█         | 12/118 [00:00<00:00, 110.88it/s]"
     ]
    },
    {
     "name": "stdout",
     "output_type": "stream",
     "text": [
      "EPOCH: 74 Avg Loss: 0.002741647622315213\n"
     ]
    },
    {
     "name": "stderr",
     "output_type": "stream",
     "text": [
      "100%|██████████| 118/118 [00:01<00:00, 94.59it/s]\n",
      " 10%|█         | 12/118 [00:00<00:00, 113.96it/s]"
     ]
    },
    {
     "name": "stdout",
     "output_type": "stream",
     "text": [
      "EPOCH: 75 Avg Loss: 0.004471351878946426\n"
     ]
    },
    {
     "name": "stderr",
     "output_type": "stream",
     "text": [
      "100%|██████████| 118/118 [00:01<00:00, 96.82it/s]\n",
      "  7%|▋         | 8/118 [00:00<00:01, 71.51it/s]"
     ]
    },
    {
     "name": "stdout",
     "output_type": "stream",
     "text": [
      "EPOCH: 76 Avg Loss: 0.0037403683283196575\n"
     ]
    },
    {
     "name": "stderr",
     "output_type": "stream",
     "text": [
      "100%|██████████| 118/118 [00:01<00:00, 82.68it/s]\n",
      "  9%|▉         | 11/118 [00:00<00:01, 105.44it/s]"
     ]
    },
    {
     "name": "stdout",
     "output_type": "stream",
     "text": [
      "EPOCH: 77 Avg Loss: 0.0029387243135962477\n"
     ]
    },
    {
     "name": "stderr",
     "output_type": "stream",
     "text": [
      "100%|██████████| 118/118 [00:01<00:00, 101.22it/s]\n",
      "  7%|▋         | 8/118 [00:00<00:01, 79.06it/s]"
     ]
    },
    {
     "name": "stdout",
     "output_type": "stream",
     "text": [
      "EPOCH: 78 Avg Loss: 0.002845332632975858\n"
     ]
    },
    {
     "name": "stderr",
     "output_type": "stream",
     "text": [
      "100%|██████████| 118/118 [00:01<00:00, 98.44it/s] \n",
      "  9%|▉         | 11/118 [00:00<00:01, 106.19it/s]"
     ]
    },
    {
     "name": "stdout",
     "output_type": "stream",
     "text": [
      "EPOCH: 79 Avg Loss: 0.003272871109479407\n"
     ]
    },
    {
     "name": "stderr",
     "output_type": "stream",
     "text": [
      "100%|██████████| 118/118 [00:01<00:00, 97.95it/s]\n",
      "  8%|▊         | 9/118 [00:00<00:01, 87.08it/s]"
     ]
    },
    {
     "name": "stdout",
     "output_type": "stream",
     "text": [
      "EPOCH: 80 Avg Loss: 0.0027797889145450287\n"
     ]
    },
    {
     "name": "stderr",
     "output_type": "stream",
     "text": [
      "100%|██████████| 118/118 [00:01<00:00, 87.34it/s]\n",
      "  8%|▊         | 9/118 [00:00<00:01, 81.54it/s]"
     ]
    },
    {
     "name": "stdout",
     "output_type": "stream",
     "text": [
      "EPOCH: 81 Avg Loss: 0.00308846460849686\n"
     ]
    },
    {
     "name": "stderr",
     "output_type": "stream",
     "text": [
      "100%|██████████| 118/118 [00:01<00:00, 87.48it/s]\n",
      "  5%|▌         | 6/118 [00:00<00:02, 55.83it/s]"
     ]
    },
    {
     "name": "stdout",
     "output_type": "stream",
     "text": [
      "EPOCH: 82 Avg Loss: 0.00289078739617746\n"
     ]
    },
    {
     "name": "stderr",
     "output_type": "stream",
     "text": [
      "100%|██████████| 118/118 [00:01<00:00, 82.07it/s]\n",
      "  8%|▊         | 9/118 [00:00<00:01, 81.35it/s]"
     ]
    },
    {
     "name": "stdout",
     "output_type": "stream",
     "text": [
      "EPOCH: 83 Avg Loss: 0.002804260205682683\n"
     ]
    },
    {
     "name": "stderr",
     "output_type": "stream",
     "text": [
      "100%|██████████| 118/118 [00:01<00:00, 92.60it/s]\n",
      "  8%|▊         | 9/118 [00:00<00:01, 89.94it/s]"
     ]
    },
    {
     "name": "stdout",
     "output_type": "stream",
     "text": [
      "EPOCH: 84 Avg Loss: 0.0028646592806997094\n"
     ]
    },
    {
     "name": "stderr",
     "output_type": "stream",
     "text": [
      "100%|██████████| 118/118 [00:01<00:00, 96.63it/s]\n",
      " 10%|█         | 12/118 [00:00<00:00, 111.36it/s]"
     ]
    },
    {
     "name": "stdout",
     "output_type": "stream",
     "text": [
      "EPOCH: 85 Avg Loss: 0.0028949602626923126\n"
     ]
    },
    {
     "name": "stderr",
     "output_type": "stream",
     "text": [
      "100%|██████████| 118/118 [00:01<00:00, 90.09it/s]\n",
      "  7%|▋         | 8/118 [00:00<00:01, 75.39it/s]"
     ]
    },
    {
     "name": "stdout",
     "output_type": "stream",
     "text": [
      "EPOCH: 86 Avg Loss: 0.0028291128744012124\n"
     ]
    },
    {
     "name": "stderr",
     "output_type": "stream",
     "text": [
      "100%|██████████| 118/118 [00:01<00:00, 93.47it/s]\n",
      "  8%|▊         | 10/118 [00:00<00:01, 93.62it/s]"
     ]
    },
    {
     "name": "stdout",
     "output_type": "stream",
     "text": [
      "EPOCH: 87 Avg Loss: 0.002854297238242244\n"
     ]
    },
    {
     "name": "stderr",
     "output_type": "stream",
     "text": [
      "100%|██████████| 118/118 [00:01<00:00, 91.85it/s]\n",
      "  8%|▊         | 9/118 [00:00<00:01, 85.37it/s]"
     ]
    },
    {
     "name": "stdout",
     "output_type": "stream",
     "text": [
      "EPOCH: 88 Avg Loss: 0.0028396583864193064\n"
     ]
    },
    {
     "name": "stderr",
     "output_type": "stream",
     "text": [
      "100%|██████████| 118/118 [00:01<00:00, 95.70it/s]\n",
      "  9%|▉         | 11/118 [00:00<00:01, 104.30it/s]"
     ]
    },
    {
     "name": "stdout",
     "output_type": "stream",
     "text": [
      "EPOCH: 89 Avg Loss: 0.002818564792860189\n"
     ]
    },
    {
     "name": "stderr",
     "output_type": "stream",
     "text": [
      "100%|██████████| 118/118 [00:01<00:00, 97.61it/s]\n",
      "  7%|▋         | 8/118 [00:00<00:01, 73.29it/s]"
     ]
    },
    {
     "name": "stdout",
     "output_type": "stream",
     "text": [
      "EPOCH: 90 Avg Loss: 0.002793419888880404\n"
     ]
    },
    {
     "name": "stderr",
     "output_type": "stream",
     "text": [
      "100%|██████████| 118/118 [00:01<00:00, 88.88it/s]\n",
      " 10%|█         | 12/118 [00:00<00:00, 112.24it/s]"
     ]
    },
    {
     "name": "stdout",
     "output_type": "stream",
     "text": [
      "EPOCH: 91 Avg Loss: 0.002771834035106082\n"
     ]
    },
    {
     "name": "stderr",
     "output_type": "stream",
     "text": [
      "100%|██████████| 118/118 [00:01<00:00, 82.24it/s]\n",
      "  7%|▋         | 8/118 [00:00<00:01, 79.48it/s]"
     ]
    },
    {
     "name": "stdout",
     "output_type": "stream",
     "text": [
      "EPOCH: 92 Avg Loss: 0.0027489544647662915\n"
     ]
    },
    {
     "name": "stderr",
     "output_type": "stream",
     "text": [
      "100%|██████████| 118/118 [00:01<00:00, 84.60it/s]\n",
      "  7%|▋         | 8/118 [00:00<00:01, 69.92it/s]"
     ]
    },
    {
     "name": "stdout",
     "output_type": "stream",
     "text": [
      "EPOCH: 93 Avg Loss: 0.0027389559762599734\n"
     ]
    },
    {
     "name": "stderr",
     "output_type": "stream",
     "text": [
      "100%|██████████| 118/118 [00:01<00:00, 94.92it/s]\n",
      "  7%|▋         | 8/118 [00:00<00:01, 76.71it/s]"
     ]
    },
    {
     "name": "stdout",
     "output_type": "stream",
     "text": [
      "EPOCH: 94 Avg Loss: 0.002667817058016041\n"
     ]
    },
    {
     "name": "stderr",
     "output_type": "stream",
     "text": [
      "100%|██████████| 118/118 [00:01<00:00, 97.32it/s]\n",
      "  9%|▉         | 11/118 [00:00<00:01, 105.99it/s]"
     ]
    },
    {
     "name": "stdout",
     "output_type": "stream",
     "text": [
      "EPOCH: 95 Avg Loss: 0.0028217210485185574\n"
     ]
    },
    {
     "name": "stderr",
     "output_type": "stream",
     "text": [
      "100%|██████████| 118/118 [00:01<00:00, 90.97it/s]\n",
      "  8%|▊         | 9/118 [00:00<00:01, 79.74it/s]"
     ]
    },
    {
     "name": "stdout",
     "output_type": "stream",
     "text": [
      "EPOCH: 96 Avg Loss: 0.00707136137979263\n"
     ]
    },
    {
     "name": "stderr",
     "output_type": "stream",
     "text": [
      "100%|██████████| 118/118 [00:01<00:00, 76.85it/s]\n",
      "  8%|▊         | 10/118 [00:00<00:01, 99.35it/s]"
     ]
    },
    {
     "name": "stdout",
     "output_type": "stream",
     "text": [
      "EPOCH: 97 Avg Loss: 0.004626891477096637\n"
     ]
    },
    {
     "name": "stderr",
     "output_type": "stream",
     "text": [
      "100%|██████████| 118/118 [00:01<00:00, 99.97it/s] \n",
      "  8%|▊         | 9/118 [00:00<00:01, 83.12it/s]"
     ]
    },
    {
     "name": "stdout",
     "output_type": "stream",
     "text": [
      "EPOCH: 98 Avg Loss: 0.003313417951438292\n"
     ]
    },
    {
     "name": "stderr",
     "output_type": "stream",
     "text": [
      "100%|██████████| 118/118 [00:01<00:00, 95.06it/s] "
     ]
    },
    {
     "name": "stdout",
     "output_type": "stream",
     "text": [
      "EPOCH: 99 Avg Loss: 0.003019675802117829\n"
     ]
    },
    {
     "name": "stderr",
     "output_type": "stream",
     "text": [
      "\n"
     ]
    }
   ],
   "source": [
    "run(data_set, learning_rate=0.1,num_epoch = 100, batch_size = 32)"
   ]
  },
  {
   "cell_type": "code",
   "execution_count": null,
   "metadata": {},
   "outputs": [],
   "source": []
  }
 ],
 "metadata": {
  "kernelspec": {
   "display_name": "Python 3",
   "language": "python",
   "name": "python3"
  },
  "language_info": {
   "codemirror_mode": {
    "name": "ipython",
    "version": 3
   },
   "file_extension": ".py",
   "mimetype": "text/x-python",
   "name": "python",
   "nbconvert_exporter": "python",
   "pygments_lexer": "ipython3",
   "version": "3.6.4"
  }
 },
 "nbformat": 4,
 "nbformat_minor": 2
}
