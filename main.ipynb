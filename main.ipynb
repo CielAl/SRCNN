{
 "cells": [
  {
   "cell_type": "code",
   "execution_count": 11,
   "metadata": {},
   "outputs": [],
   "source": [
    "from database import database\n",
    "from matplotlib import pyplot as plt\n",
    "import sklearn.feature_extraction.image\n",
    "from sklearn.feature_extraction.image import extract_patches\n",
    "import tables\n",
    "import random\n",
    "from SRCNN import run\n",
    "from build_model import build_model\n",
    "import tensorflow as tf"
   ]
  },
  {
   "cell_type": "code",
   "execution_count": 2,
   "metadata": {},
   "outputs": [],
   "source": [
    "random.seed(31415926)\n",
    "args = {}\n",
    "args['filedir'] = 'train_data'\n",
    "args['pattern'] = '*.bmp'\n",
    "args['database_name'] = 'mock'\n",
    "args['export_dir'] = 'export'\n",
    "args['patch_shape'] = (64,64,3)\n",
    "args['stride_size'] = 32\n",
    "\n",
    "\n",
    "\n",
    "data_set = database(**args)\n",
    "data_set.initialize()"
   ]
  },
  {
   "cell_type": "code",
   "execution_count": 3,
   "metadata": {},
   "outputs": [
    {
     "name": "stdout",
     "output_type": "stream",
     "text": [
      "Preparing data...\n",
      "WARNING:tensorflow:From c:\\users\\ciel\\appdata\\local\\programs\\python\\python36\\lib\\site-packages\\tensorflow\\python\\util\\tf_should_use.py:118: initialize_all_variables (from tensorflow.python.ops.variables) is deprecated and will be removed after 2017-03-02.\n",
      "Instructions for updating:\n",
      "Use `tf.global_variables_initializer` instead.\n",
      "EPOCH: 0\n"
     ]
    }
   ],
   "source": [
    "run(data_set, num_epoch = 1, batch_size = 13)"
   ]
  },
  {
   "cell_type": "code",
   "execution_count": 6,
   "metadata": {},
   "outputs": [
    {
     "name": "stdout",
     "output_type": "stream",
     "text": [
      "2946\n"
     ]
    }
   ],
   "source": [
    "print(data_set.size('train'))"
   ]
  },
  {
   "cell_type": "code",
   "execution_count": 7,
   "metadata": {},
   "outputs": [
    {
     "name": "stdout",
     "output_type": "stream",
     "text": [
      "(2946, 64, 64, 3) (2946, 64, 64, 3)\n"
     ]
    }
   ],
   "source": [
    "img_size,label_size=data_set.peek('train')\n",
    "print(img_size,img_size)"
   ]
  },
  {
   "cell_type": "code",
   "execution_count": 8,
   "metadata": {},
   "outputs": [
    {
     "data": {
      "text/plain": [
       "{'images': <tf.Tensor 'images_1:0' shape=(?, 64, 64, 3) dtype=float32>,\n",
       " 'ground_images': <tf.Tensor 'ground_images_1:0' shape=(?, 64, 64, 3) dtype=float32>,\n",
       " 'cnn': <tf.Tensor 'add_5:0' shape=(?, 64, 64, 3) dtype=float32>,\n",
       " 'saver': <tensorflow.python.training.saver.Saver at 0x239e4a8fcf8>}"
      ]
     },
     "execution_count": 8,
     "metadata": {},
     "output_type": "execute_result"
    }
   ],
   "source": [
    "build_model(data_set.patch_shape[0], data_set.patch_shape[0], data_set.patch_shape[2])"
   ]
  },
  {
   "cell_type": "code",
   "execution_count": 10,
   "metadata": {},
   "outputs": [
    {
     "data": {
      "text/plain": [
       "numpy.ndarray"
      ]
     },
     "execution_count": 10,
     "metadata": {},
     "output_type": "execute_result"
    }
   ],
   "source": [
    "type()"
   ]
  },
  {
   "cell_type": "code",
   "execution_count": 27,
   "metadata": {},
   "outputs": [],
   "source": [
    "a=tf.convert_to_tensor(data_set['train',1][0], dtype=tf.uint8)"
   ]
  },
  {
   "cell_type": "code",
   "execution_count": 29,
   "metadata": {},
   "outputs": [
    {
     "ename": "AttributeError",
     "evalue": "'numpy.ndarray' object has no attribute 'to'",
     "output_type": "error",
     "traceback": [
      "\u001b[1;31m---------------------------------------------------------------------------\u001b[0m",
      "\u001b[1;31mAttributeError\u001b[0m                            Traceback (most recent call last)",
      "\u001b[1;32m<ipython-input-29-e7054b20a9d1>\u001b[0m in \u001b[0;36m<module>\u001b[1;34m()\u001b[0m\n\u001b[1;32m----> 1\u001b[1;33m \u001b[0mdata_set\u001b[0m\u001b[1;33m[\u001b[0m\u001b[1;34m'train'\u001b[0m\u001b[1;33m,\u001b[0m\u001b[1;36m1\u001b[0m\u001b[1;33m]\u001b[0m\u001b[1;33m[\u001b[0m\u001b[1;36m0\u001b[0m\u001b[1;33m]\u001b[0m\u001b[1;33m.\u001b[0m\u001b[0mto\u001b[0m\u001b[1;33m\u001b[0m\u001b[0m\n\u001b[0m",
      "\u001b[1;31mAttributeError\u001b[0m: 'numpy.ndarray' object has no attribute 'to'"
     ]
    }
   ],
   "source": []
  },
  {
   "cell_type": "code",
   "execution_count": 28,
   "metadata": {},
   "outputs": [
    {
     "name": "stderr",
     "output_type": "stream",
     "text": [
      "c:\\users\\ciel\\appdata\\local\\programs\\python\\python36\\lib\\site-packages\\tensorflow\\python\\client\\session.py:1714: UserWarning: An interactive session is already active. This can cause out-of-memory errors in some cases. You must explicitly call `InteractiveSession.close()` to release resources held by the other session(s).\n",
      "  warnings.warn('An interactive session is already active. This can '\n"
     ]
    },
    {
     "data": {
      "text/plain": [
       "array([[[ 11,  47,  51],\n",
       "        [ 11,  47,  51],\n",
       "        [  9,  48,  52],\n",
       "        ...,\n",
       "        [117, 201, 189],\n",
       "        [125, 205, 192],\n",
       "        [125, 205, 192]],\n",
       "\n",
       "       [[ 11,  47,  51],\n",
       "        [ 11,  47,  51],\n",
       "        [  9,  48,  52],\n",
       "        ...,\n",
       "        [117, 201, 189],\n",
       "        [125, 205, 192],\n",
       "        [125, 205, 192]],\n",
       "\n",
       "       [[ 15,  40,  52],\n",
       "        [ 15,  40,  52],\n",
       "        [ 12,  42,  51],\n",
       "        ...,\n",
       "        [124, 198, 186],\n",
       "        [131, 202, 190],\n",
       "        [131, 202, 190]],\n",
       "\n",
       "       ...,\n",
       "\n",
       "       [[ 65, 100,  73],\n",
       "        [ 65, 100,  73],\n",
       "        [ 86,  99,  67],\n",
       "        ...,\n",
       "        [ 53,  96,  77],\n",
       "        [ 59, 102,  79],\n",
       "        [ 59, 102,  79]],\n",
       "\n",
       "       [[ 73, 100,  73],\n",
       "        [ 73, 100,  73],\n",
       "        [116, 109,  70],\n",
       "        ...,\n",
       "        [ 54,  98,  75],\n",
       "        [ 55,  99,  76],\n",
       "        [ 55,  99,  76]],\n",
       "\n",
       "       [[ 85, 101,  76],\n",
       "        [ 85, 101,  76],\n",
       "        [131, 115,  80],\n",
       "        ...,\n",
       "        [ 53,  97,  73],\n",
       "        [ 55,  99,  75],\n",
       "        [ 55,  99,  75]]], dtype=uint8)"
      ]
     },
     "execution_count": 28,
     "metadata": {},
     "output_type": "execute_result"
    }
   ],
   "source": [
    "sess = tf.InteractiveSession()\n",
    "a.eval()"
   ]
  },
  {
   "cell_type": "code",
   "execution_count": null,
   "metadata": {},
   "outputs": [],
   "source": []
  }
 ],
 "metadata": {
  "kernelspec": {
   "display_name": "Python 3",
   "language": "python",
   "name": "python3"
  },
  "language_info": {
   "codemirror_mode": {
    "name": "ipython",
    "version": 3
   },
   "file_extension": ".py",
   "mimetype": "text/x-python",
   "name": "python",
   "nbconvert_exporter": "python",
   "pygments_lexer": "ipython3",
   "version": "3.6.4"
  }
 },
 "nbformat": 4,
 "nbformat_minor": 2
}
