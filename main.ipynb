{
 "cells": [
  {
   "cell_type": "code",
   "execution_count": 1,
   "metadata": {},
   "outputs": [],
   "source": [
    "from database import database\n",
    "from matplotlib import pyplot as plt\n",
    "import sklearn.feature_extraction.image\n",
    "from sklearn.feature_extraction.image import extract_patches\n",
    "import tables\n",
    "import random\n",
    "from SRCNN import run"
   ]
  },
  {
   "cell_type": "code",
   "execution_count": 13,
   "metadata": {},
   "outputs": [],
   "source": [
    "random.seed(31415926)\n",
    "args = {}\n",
    "args['filedir'] = 'train_data'\n",
    "args['pattern'] = '*.bmp'\n",
    "args['database_name'] = 'mock'\n",
    "args['export_dir'] = 'export'\n",
    "args['patch_shape'] = (64,64,3)\n",
    "args['stride_size'] = 32\n",
    "\n",
    "\n",
    "\n",
    "data_set = database(**args)"
   ]
  },
  {
   "cell_type": "code",
   "execution_count": 14,
   "metadata": {},
   "outputs": [
    {
     "name": "stdout",
     "output_type": "stream",
     "text": [
      "Preparing data...\n",
      "WARNING:tensorflow:From c:\\users\\ciel\\appdata\\local\\programs\\python\\python36\\lib\\site-packages\\tensorflow\\python\\util\\tf_should_use.py:118: initialize_all_variables (from tensorflow.python.ops.variables) is deprecated and will be removed after 2017-03-02.\n",
      "Instructions for updating:\n",
      "Use `tf.global_variables_initializer` instead.\n",
      "EPOCH: 0\n",
      "3062\n",
      "235\n"
     ]
    }
   ],
   "source": [
    "run(data_set, num_epoch = 1, batch_size = 13)"
   ]
  },
  {
   "cell_type": "code",
   "execution_count": 12,
   "metadata": {},
   "outputs": [
    {
     "name": "stdout",
     "output_type": "stream",
     "text": [
      "3062\n"
     ]
    }
   ],
   "source": [
    "print(data_set.size('train'))"
   ]
  },
  {
   "cell_type": "code",
   "execution_count": 3,
   "metadata": {},
   "outputs": [
    {
     "name": "stderr",
     "output_type": "stream",
     "text": [
      "100%|██████████████████████████████████████████| 81/81 [00:02<00:00, 32.63it/s]\n",
      "100%|██████████████████████████████████████████| 10/10 [00:00<00:00, 58.86it/s]\n"
     ]
    },
    {
     "data": {
      "text/plain": [
       "{'img': 3386, 'label': 3386}"
      ]
     },
     "execution_count": 3,
     "metadata": {},
     "output_type": "execute_result"
    }
   ],
   "source": [
    "data_set.write_data()"
   ]
  },
  {
   "cell_type": "code",
   "execution_count": 7,
   "metadata": {},
   "outputs": [
    {
     "name": "stdout",
     "output_type": "stream",
     "text": [
      "(3062, 64, 64, 3) (3062, 64, 64, 3)\n"
     ]
    }
   ],
   "source": [
    "img_size,label_size=data_set.peek('train')\n",
    "print(img_size,img_size)"
   ]
  },
  {
   "cell_type": "code",
   "execution_count": 17,
   "metadata": {},
   "outputs": [
    {
     "data": {
      "text/plain": [
       "(array([[[[  5,  32,  24],\n",
       "          [  5,  32,  24],\n",
       "          [  4,  34,  23],\n",
       "          ...,\n",
       "          [ 42, 160, 145],\n",
       "          [ 48, 165, 151],\n",
       "          [ 48, 165, 151]],\n",
       " \n",
       "         [[  5,  32,  24],\n",
       "          [  5,  32,  24],\n",
       "          [  4,  34,  23],\n",
       "          ...,\n",
       "          [ 42, 160, 145],\n",
       "          [ 48, 165, 151],\n",
       "          [ 48, 165, 151]],\n",
       " \n",
       "         [[  4,  24,  14],\n",
       "          [  4,  24,  14],\n",
       "          [  1,  27,  19],\n",
       "          ...,\n",
       "          [ 59, 171, 154],\n",
       "          [117, 204, 193],\n",
       "          [117, 204, 193]],\n",
       " \n",
       "         ...,\n",
       " \n",
       "         [[ 33, 167, 154],\n",
       "          [ 33, 167, 154],\n",
       "          [ 67, 185, 177],\n",
       "          ...,\n",
       "          [ 62, 175, 161],\n",
       "          [ 87, 186, 176],\n",
       "          [ 87, 186, 176]],\n",
       " \n",
       "         [[ 44, 173, 161],\n",
       "          [ 44, 173, 161],\n",
       "          [ 62, 188, 177],\n",
       "          ...,\n",
       "          [ 70, 180, 165],\n",
       "          [ 89, 191, 181],\n",
       "          [ 89, 191, 181]],\n",
       " \n",
       "         [[ 44, 173, 161],\n",
       "          [ 44, 173, 161],\n",
       "          [ 62, 188, 177],\n",
       "          ...,\n",
       "          [ 70, 180, 165],\n",
       "          [ 89, 191, 181],\n",
       "          [ 89, 191, 181]]]], dtype=uint8), array([[[[  5,  34,  25],\n",
       "          [  8,  36,  30],\n",
       "          [  5,  34,  25],\n",
       "          ...,\n",
       "          [ 32, 149, 134],\n",
       "          [ 29, 153, 137],\n",
       "          [ 23, 152, 137]],\n",
       " \n",
       "         [[  2,  26,  18],\n",
       "          [  6,  30,  22],\n",
       "          [  9,  33,  25],\n",
       "          ...,\n",
       "          [ 38, 152, 138],\n",
       "          [ 70, 175, 164],\n",
       "          [ 70, 178, 166]],\n",
       " \n",
       "         [[  2,  23,  14],\n",
       "          [  4,  25,  17],\n",
       "          [  2,  25,  17],\n",
       "          ...,\n",
       "          [ 57, 165, 152],\n",
       "          [103, 197, 186],\n",
       "          [111, 202, 193]],\n",
       " \n",
       "         ...,\n",
       " \n",
       "         [[ 25, 162, 148],\n",
       "          [ 35, 165, 154],\n",
       "          [ 60, 182, 172],\n",
       "          ...,\n",
       "          [ 74, 182, 169],\n",
       "          [ 82, 186, 175],\n",
       "          [ 90, 186, 179]],\n",
       " \n",
       "         [[ 34, 166, 153],\n",
       "          [ 49, 179, 168],\n",
       "          [ 62, 185, 175],\n",
       "          ...,\n",
       "          [ 71, 179, 166],\n",
       "          [ 75, 179, 168],\n",
       "          [ 90, 189, 181]],\n",
       " \n",
       "         [[ 41, 167, 155],\n",
       "          [ 51, 179, 168],\n",
       "          [ 47, 178, 165],\n",
       "          ...,\n",
       "          [ 85, 191, 178],\n",
       "          [ 94, 198, 187],\n",
       "          [ 97, 196, 186]]]], dtype=uint8))"
      ]
     },
     "execution_count": 17,
     "metadata": {},
     "output_type": "execute_result"
    }
   ],
   "source": [
    "data_set['train',3061:3064]"
   ]
  },
  {
   "cell_type": "code",
   "execution_count": null,
   "metadata": {},
   "outputs": [],
   "source": []
  }
 ],
 "metadata": {
  "kernelspec": {
   "display_name": "Python 3",
   "language": "python",
   "name": "python3"
  },
  "language_info": {
   "codemirror_mode": {
    "name": "ipython",
    "version": 3
   },
   "file_extension": ".py",
   "mimetype": "text/x-python",
   "name": "python",
   "nbconvert_exporter": "python",
   "pygments_lexer": "ipython3",
   "version": "3.6.4"
  }
 },
 "nbformat": 4,
 "nbformat_minor": 2
}
