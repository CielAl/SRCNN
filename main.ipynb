{
 "cells": [
  {
   "cell_type": "code",
   "execution_count": 7,
   "metadata": {},
   "outputs": [],
   "source": [
    "from database import database\n",
    "from matplotlib import pyplot as plt\n",
    "import sklearn.feature_extraction.image\n",
    "from sklearn.feature_extraction.image import extract_patches\n",
    "import tables\n",
    "import random\n",
    "from SRCNN import run\n",
    "from build_model import build_model\n",
    "import tensorflow as tf"
   ]
  },
  {
   "cell_type": "code",
   "execution_count": 11,
   "metadata": {},
   "outputs": [
    {
     "name": "stderr",
     "output_type": "stream",
     "text": [
      "100%|██████████| 81/81 [00:03<00:00, 21.33it/s]\n",
      "100%|██████████| 10/10 [00:00<00:00, 48.11it/s]\n"
     ]
    },
    {
     "data": {
      "text/plain": [
       "{'img': 17202, 'label': 17202}"
      ]
     },
     "execution_count": 11,
     "metadata": {},
     "output_type": "execute_result"
    }
   ],
   "source": [
    "random.seed(31415926)\n",
    "args = {}\n",
    "args['filedir'] = 'train_data'\n",
    "args['pattern'] = '*.bmp'\n",
    "args['database_name'] = 'mock'\n",
    "args['export_dir'] = 'export'\n",
    "args['patch_shape'] = (32,32,3)\n",
    "args['stride_size'] = 16\n",
    "\n",
    "\n",
    "\n",
    "data_set = database(**args)\n",
    "data_set.initialize()"
   ]
  },
  {
   "cell_type": "code",
   "execution_count": 12,
   "metadata": {},
   "outputs": [
    {
     "name": "stdout",
     "output_type": "stream",
     "text": [
      "Preparing data...\n"
     ]
    },
    {
     "name": "stderr",
     "output_type": "stream",
     "text": [
      "100%|██████████| 496/496 [00:05<00:00, 104.41it/s]\n",
      "  1%|          | 4/496 [00:00<00:14, 33.71it/s]"
     ]
    },
    {
     "name": "stdout",
     "output_type": "stream",
     "text": [
      "EPOCH: 0 Avg Loss: 0.16795728552801115\n"
     ]
    },
    {
     "name": "stderr",
     "output_type": "stream",
     "text": [
      "100%|██████████| 496/496 [00:05<00:00, 89.22it/s]\n",
      "  2%|▏         | 8/496 [00:00<00:09, 53.07it/s]"
     ]
    },
    {
     "name": "stdout",
     "output_type": "stream",
     "text": [
      "EPOCH: 1 Avg Loss: 0.06442079504936814\n"
     ]
    },
    {
     "name": "stderr",
     "output_type": "stream",
     "text": [
      "100%|██████████| 496/496 [00:05<00:00, 97.31it/s] \n",
      "  2%|▏         | 9/496 [00:00<00:05, 84.18it/s]"
     ]
    },
    {
     "name": "stdout",
     "output_type": "stream",
     "text": [
      "EPOCH: 2 Avg Loss: 0.047152468677414884\n"
     ]
    },
    {
     "name": "stderr",
     "output_type": "stream",
     "text": [
      "100%|██████████| 496/496 [00:05<00:00, 94.80it/s] \n",
      "  2%|▏         | 11/496 [00:00<00:04, 109.67it/s]"
     ]
    },
    {
     "name": "stdout",
     "output_type": "stream",
     "text": [
      "EPOCH: 3 Avg Loss: 0.045016465814701555\n"
     ]
    },
    {
     "name": "stderr",
     "output_type": "stream",
     "text": [
      "100%|██████████| 496/496 [00:05<00:00, 93.21it/s] \n",
      "  2%|▏         | 9/496 [00:00<00:05, 89.74it/s]"
     ]
    },
    {
     "name": "stdout",
     "output_type": "stream",
     "text": [
      "EPOCH: 4 Avg Loss: 0.04344215385349197\n"
     ]
    },
    {
     "name": "stderr",
     "output_type": "stream",
     "text": [
      "100%|██████████| 496/496 [00:05<00:00, 97.11it/s] \n",
      "  2%|▏         | 8/496 [00:00<00:06, 79.18it/s]"
     ]
    },
    {
     "name": "stdout",
     "output_type": "stream",
     "text": [
      "EPOCH: 5 Avg Loss: 0.04184136423188442\n"
     ]
    },
    {
     "name": "stderr",
     "output_type": "stream",
     "text": [
      "100%|██████████| 496/496 [00:05<00:00, 92.16it/s] \n",
      "  2%|▏         | 11/496 [00:00<00:04, 105.70it/s]"
     ]
    },
    {
     "name": "stdout",
     "output_type": "stream",
     "text": [
      "EPOCH: 6 Avg Loss: 0.04028486732708951\n"
     ]
    },
    {
     "name": "stderr",
     "output_type": "stream",
     "text": [
      "100%|██████████| 496/496 [00:05<00:00, 89.51it/s] \n",
      "  2%|▏         | 11/496 [00:00<00:04, 103.45it/s]"
     ]
    },
    {
     "name": "stdout",
     "output_type": "stream",
     "text": [
      "EPOCH: 7 Avg Loss: 0.0388003047893665\n"
     ]
    },
    {
     "name": "stderr",
     "output_type": "stream",
     "text": [
      "100%|██████████| 496/496 [00:05<00:00, 92.72it/s] \n",
      "  2%|▏         | 11/496 [00:00<00:04, 107.64it/s]"
     ]
    },
    {
     "name": "stdout",
     "output_type": "stream",
     "text": [
      "EPOCH: 8 Avg Loss: 0.03740262140936759\n"
     ]
    },
    {
     "name": "stderr",
     "output_type": "stream",
     "text": [
      "100%|██████████| 496/496 [00:05<00:00, 92.75it/s] \n",
      "  2%|▏         | 11/496 [00:00<00:04, 104.91it/s]"
     ]
    },
    {
     "name": "stdout",
     "output_type": "stream",
     "text": [
      "EPOCH: 9 Avg Loss: 0.03609085631286425\n"
     ]
    },
    {
     "name": "stderr",
     "output_type": "stream",
     "text": [
      "100%|██████████| 496/496 [00:05<00:00, 92.53it/s] \n",
      "  2%|▏         | 9/496 [00:00<00:06, 80.35it/s]"
     ]
    },
    {
     "name": "stdout",
     "output_type": "stream",
     "text": [
      "EPOCH: 10 Avg Loss: 0.03484941041097045\n"
     ]
    },
    {
     "name": "stderr",
     "output_type": "stream",
     "text": [
      "100%|██████████| 496/496 [00:05<00:00, 91.32it/s] \n",
      "  2%|▏         | 8/496 [00:00<00:06, 76.60it/s]"
     ]
    },
    {
     "name": "stdout",
     "output_type": "stream",
     "text": [
      "EPOCH: 11 Avg Loss: 0.03366685560773006\n"
     ]
    },
    {
     "name": "stderr",
     "output_type": "stream",
     "text": [
      "100%|██████████| 496/496 [00:05<00:00, 88.08it/s] \n",
      "  2%|▏         | 11/496 [00:00<00:04, 105.46it/s]"
     ]
    },
    {
     "name": "stdout",
     "output_type": "stream",
     "text": [
      "EPOCH: 12 Avg Loss: 0.03253633381457128\n"
     ]
    },
    {
     "name": "stderr",
     "output_type": "stream",
     "text": [
      "100%|██████████| 496/496 [00:05<00:00, 92.56it/s] \n",
      "  2%|▏         | 11/496 [00:00<00:04, 105.21it/s]"
     ]
    },
    {
     "name": "stdout",
     "output_type": "stream",
     "text": [
      "EPOCH: 13 Avg Loss: 0.03145375487304503\n"
     ]
    },
    {
     "name": "stderr",
     "output_type": "stream",
     "text": [
      "100%|██████████| 496/496 [00:05<00:00, 92.05it/s] "
     ]
    },
    {
     "name": "stdout",
     "output_type": "stream",
     "text": [
      "EPOCH: 14 Avg Loss: 0.030415961475697376\n"
     ]
    },
    {
     "name": "stderr",
     "output_type": "stream",
     "text": [
      "\n"
     ]
    }
   ],
   "source": [
    "#run to train - use dataset['train',idx] to slice the chunkized hdf5 arrays\n",
    "run(data_set, num_epoch = 15, batch_size = 32)"
   ]
  },
  {
   "cell_type": "code",
   "execution_count": null,
   "metadata": {},
   "outputs": [],
   "source": []
  }
 ],
 "metadata": {
  "kernelspec": {
   "display_name": "Python 3",
   "language": "python",
   "name": "python3"
  },
  "language_info": {
   "codemirror_mode": {
    "name": "ipython",
    "version": 3
   },
   "file_extension": ".py",
   "mimetype": "text/x-python",
   "name": "python",
   "nbconvert_exporter": "python",
   "pygments_lexer": "ipython3",
   "version": "3.6.4"
  }
 },
 "nbformat": 4,
 "nbformat_minor": 2
}
